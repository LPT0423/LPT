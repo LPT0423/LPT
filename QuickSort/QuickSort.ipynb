{
 "cells": [
  {
   "cell_type": "code",
   "execution_count": 5,
   "metadata": {
    "scrolled": true
   },
   "outputs": [],
   "source": [
    "def QuickSort(list): \n",
    "    small=[] \n",
    "    mid=[]\n",
    "    big=[]\n",
    "    if len(list)<=1: \n",
    "        return list\n",
    "    else:\n",
    "        k=list[1] \n",
    "        for i in list:\n",
    "            if i <k: \n",
    "                 small.append(i)\n",
    "            elif i >k: \n",
    "                big.append(i)\n",
    "            else: \n",
    "                mid.append(i)\n",
    "    small = QuickSort(small)\n",
    "    big = QuickSort(big)\n",
    "    return small+mid+big"
   ]
  },
  {
   "cell_type": "code",
   "execution_count": null,
   "metadata": {},
   "outputs": [],
   "source": []
  },
  {
   "cell_type": "code",
   "execution_count": 3,
   "metadata": {},
   "outputs": [],
   "source": [
    "list =[72,25,36,5,1,100]"
   ]
  },
  {
   "cell_type": "code",
   "execution_count": 6,
   "metadata": {},
   "outputs": [
    {
     "data": {
      "text/plain": [
       "[1, 5, 25, 36, 72, 100]"
      ]
     },
     "execution_count": 6,
     "metadata": {},
     "output_type": "execute_result"
    }
   ],
   "source": [
    "QuickSort(list)"
   ]
  },
  {
   "cell_type": "code",
   "execution_count": null,
   "metadata": {},
   "outputs": [],
   "source": []
  }
 ],
 "metadata": {
  "kernelspec": {
   "display_name": "Python 3",
   "language": "python",
   "name": "python3"
  },
  "language_info": {
   "codemirror_mode": {
    "name": "ipython",
    "version": 3
   },
   "file_extension": ".py",
   "mimetype": "text/x-python",
   "name": "python",
   "nbconvert_exporter": "python",
   "pygments_lexer": "ipython3",
   "version": "3.7.1"
  }
 },
 "nbformat": 4,
 "nbformat_minor": 2
}
